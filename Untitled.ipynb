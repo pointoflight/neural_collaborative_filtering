{
 "cells": [
  {
   "cell_type": "code",
   "execution_count": 9,
   "id": "fc65ab8c",
   "metadata": {},
   "outputs": [],
   "source": [
    "import numpy as np\n",
    "import theano.tensor as T\n",
    "import keras\n",
    "from keras import backend as K\n",
    "from keras import initializations\n",
    "from keras.models import Sequential, Model, load_model, save_model\n",
    "from keras.layers.core import Dense, Lambda, Activation, Merge\n",
    "from keras.layers import Embedding, Input, Dense, merge, Reshape, Flatten\n",
    "from keras.optimizers import Adagrad, Adam, SGD, RMSprop\n",
    "from keras.regularizers import l2\n",
    "from Dataset import Dataset\n",
    "from evaluate import evaluate_model\n",
    "from time import time\n",
    "import multiprocessing as mp\n",
    "import sys\n",
    "import math\n",
    "import argparse\n",
    "\n",
    "import tensorflow as tf\n",
    "tf.python.control_flow_ops = tf"
   ]
  },
  {
   "cell_type": "code",
   "execution_count": 39,
   "id": "1c8abc29",
   "metadata": {},
   "outputs": [
    {
     "data": {
      "text/plain": [
       "<tf.Tensor 'BatchMatMul_22:0' shape=(3, 3) dtype=float32>"
      ]
     },
     "execution_count": 39,
     "metadata": {},
     "output_type": "execute_result"
    }
   ],
   "source": [
    "a = tf.constant([[2.0, 3.0, 4.0], [2.0, 3.0, 4.0], [2.0, 3.0, 4.0]])\n",
    "b = tf.constant([[1.0, 2.0, 3.0], [2.0, 3.0, 4.0], [2.0, 3.0, 4.0]])\n",
    "\n",
    "a1 = tf.constant([[2.0, 3.0, 4.0]])\n",
    "b1 = tf.constant([[1.0, 2.0, 3.0]])\n",
    "\n",
    "c = merge([a1, b1], mode = 'dot')\n",
    "c"
   ]
  },
  {
   "cell_type": "code",
   "execution_count": null,
   "id": "885b78bc",
   "metadata": {},
   "outputs": [],
   "source": []
  }
 ],
 "metadata": {
  "kernelspec": {
   "display_name": "Python 3",
   "language": "python",
   "name": "python3"
  },
  "language_info": {
   "codemirror_mode": {
    "name": "ipython",
    "version": 3
   },
   "file_extension": ".py",
   "mimetype": "text/x-python",
   "name": "python",
   "nbconvert_exporter": "python",
   "pygments_lexer": "ipython3",
   "version": "3.6.13"
  }
 },
 "nbformat": 4,
 "nbformat_minor": 5
}
