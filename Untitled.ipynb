{
 "cells": [
  {
   "cell_type": "code",
   "execution_count": 1,
   "id": "fc65ab8c",
   "metadata": {},
   "outputs": [
    {
     "ename": "ModuleNotFoundError",
     "evalue": "No module named 'theano'",
     "output_type": "error",
     "traceback": [
      "\u001b[0;31m---------------------------------------------------------------------------\u001b[0m",
      "\u001b[0;31mModuleNotFoundError\u001b[0m                       Traceback (most recent call last)",
      "\u001b[0;32m<ipython-input-1-12d3a64cb771>\u001b[0m in \u001b[0;36m<module>\u001b[0;34m\u001b[0m\n\u001b[1;32m      1\u001b[0m \u001b[0;32mimport\u001b[0m \u001b[0mnumpy\u001b[0m \u001b[0;32mas\u001b[0m \u001b[0mnp\u001b[0m\u001b[0;34m\u001b[0m\u001b[0;34m\u001b[0m\u001b[0m\n\u001b[0;32m----> 2\u001b[0;31m \u001b[0;32mimport\u001b[0m \u001b[0mtheano\u001b[0m\u001b[0;34m.\u001b[0m\u001b[0mtensor\u001b[0m \u001b[0;32mas\u001b[0m \u001b[0mT\u001b[0m\u001b[0;34m\u001b[0m\u001b[0;34m\u001b[0m\u001b[0m\n\u001b[0m\u001b[1;32m      3\u001b[0m \u001b[0;32mimport\u001b[0m \u001b[0mkeras\u001b[0m\u001b[0;34m\u001b[0m\u001b[0;34m\u001b[0m\u001b[0m\n\u001b[1;32m      4\u001b[0m \u001b[0;32mfrom\u001b[0m \u001b[0mkeras\u001b[0m \u001b[0;32mimport\u001b[0m \u001b[0mbackend\u001b[0m \u001b[0;32mas\u001b[0m \u001b[0mK\u001b[0m\u001b[0;34m\u001b[0m\u001b[0;34m\u001b[0m\u001b[0m\n\u001b[1;32m      5\u001b[0m \u001b[0;32mfrom\u001b[0m \u001b[0mkeras\u001b[0m \u001b[0;32mimport\u001b[0m \u001b[0minitializations\u001b[0m\u001b[0;34m\u001b[0m\u001b[0;34m\u001b[0m\u001b[0m\n",
      "\u001b[0;31mModuleNotFoundError\u001b[0m: No module named 'theano'"
     ]
    }
   ],
   "source": [
    "import numpy as np\n",
    "import theano.tensor as T\n",
    "import keras\n",
    "from keras import backend as K\n",
    "from keras import initializations\n",
    "from keras.models import Sequential, Model, load_model, save_model\n",
    "from keras.layers.core import Dense, Lambda, Activation, Merge\n",
    "from keras.layers import Embedding, Input, Dense, merge, Reshape, Flatten\n",
    "from keras.optimizers import Adagrad, Adam, SGD, RMSprop\n",
    "from keras.regularizers import l2\n",
    "from Dataset import Dataset\n",
    "from evaluate import evaluate_model\n",
    "from time import time\n",
    "import multiprocessing as mp\n",
    "import sys\n",
    "import math\n",
    "import argparse\n",
    "\n",
    "import tensorflow as tf\n",
    "tf.python.control_flow_ops = tf"
   ]
  },
  {
   "cell_type": "code",
   "execution_count": 39,
   "id": "1c8abc29",
   "metadata": {},
   "outputs": [
    {
     "data": {
      "text/plain": [
       "<tf.Tensor 'BatchMatMul_22:0' shape=(3, 3) dtype=float32>"
      ]
     },
     "execution_count": 39,
     "metadata": {},
     "output_type": "execute_result"
    }
   ],
   "source": [
    "a = tf.constant([[2.0, 3.0, 4.0], [2.0, 3.0, 4.0], [2.0, 3.0, 4.0]])\n",
    "b = tf.constant([[1.0, 2.0, 3.0], [2.0, 3.0, 4.0], [2.0, 3.0, 4.0]])\n",
    "\n",
    "a1 = tf.constant([[2.0, 3.0, 4.0]])\n",
    "b1 = tf.constant([[1.0, 2.0, 3.0]])\n",
    "\n",
    "c = merge([a1, b1], mode = 'dot')\n",
    "c"
   ]
  },
  {
   "cell_type": "code",
   "execution_count": 22,
   "id": "885b78bc",
   "metadata": {},
   "outputs": [
    {
     "data": {
      "text/plain": [
       "994169"
      ]
     },
     "execution_count": 22,
     "metadata": {},
     "output_type": "execute_result"
    }
   ],
   "source": [
    "with open('Data/ml-1m.train.rating', \"r\") as f:\n",
    "    line = f.readlines()\n",
    "\n",
    "len(line)"
   ]
  },
  {
   "cell_type": "code",
   "execution_count": 23,
   "id": "cc7e9d64",
   "metadata": {},
   "outputs": [
    {
     "name": "stdout",
     "output_type": "stream",
     "text": [
      "\u001b[1m\u001b[34mData\u001b[m\u001b[m           GMF.py         MLP.py         README.md      evaluate.py\r\n",
      "Dataset.py     LICENSE        NeuMF.py       Untitled.ipynb\r\n",
      "Dockerfile     MF.py          \u001b[1m\u001b[34mPretrain\u001b[m\u001b[m       \u001b[1m\u001b[34m__pycache__\u001b[m\u001b[m\r\n"
     ]
    }
   ],
   "source": [
    "!ls"
   ]
  },
  {
   "cell_type": "code",
   "execution_count": 54,
   "id": "6d347abc",
   "metadata": {},
   "outputs": [],
   "source": [
    "ratingList = []\n",
    "\n",
    "with open('Data/ml-1m.train.rating', \"r\") as f:\n",
    "    line = f.readline()\n",
    "    prev_user = 0\n",
    "    cur = []\n",
    "    while line != None and line != \"\":\n",
    "        arr = line.split(\"\\t\")\n",
    "        user, item, rating = int(arr[0]), int(arr[1]), int(arr[2])\n",
    "        if user != prev_user:\n",
    "            ratingList.append(cur)\n",
    "            cur = []\n",
    "            prev_user = user\n",
    "        cur.append([user, item, rating])\n",
    "        line = f.readline()\n",
    "    ratingList.append(cur)"
   ]
  },
  {
   "cell_type": "code",
   "execution_count": 55,
   "id": "76c1ad82",
   "metadata": {},
   "outputs": [],
   "source": [
    "# ratingList[0]"
   ]
  },
  {
   "cell_type": "code",
   "execution_count": 56,
   "id": "e82b71f8",
   "metadata": {
    "scrolled": true
   },
   "outputs": [],
   "source": [
    "with open('Data/ml-1m.test.rating', \"r\") as f:\n",
    "    line = f.readlines()\n",
    "\n",
    "for i in range(len(line)):\n",
    "    arr = line[i].split('\\t')\n",
    "    user, item, rating = int(arr[0]), int(arr[1]), int(arr[2])\n",
    "    ratingList[i].append([user, item, rating])"
   ]
  },
  {
   "cell_type": "code",
   "execution_count": 57,
   "id": "29838f52",
   "metadata": {},
   "outputs": [],
   "source": [
    "# ratingList[6039]"
   ]
  },
  {
   "cell_type": "code",
   "execution_count": 58,
   "id": "601b4b8a",
   "metadata": {},
   "outputs": [],
   "source": [
    "train_lines = []\n",
    "test_lines = []\n",
    "\n",
    "for i in range(len(ratingList)):\n",
    "    train_lines.extend(ratingList[i][:-15])\n",
    "    test_lines.extend(ratingList[i][-15:])"
   ]
  },
  {
   "cell_type": "code",
   "execution_count": 42,
   "id": "fa260a2c",
   "metadata": {},
   "outputs": [
    {
     "name": "stdout",
     "output_type": "stream",
     "text": [
      "[[0, 32, 4], [0, 34, 4], [0, 4, 5], [0, 35, 4], [0, 30, 4], [0, 29, 3], [0, 33, 4], [0, 40, 5], [0, 10, 5], [0, 16, 3], [0, 23, 5], [0, 28, 4], [0, 12, 4], [0, 8, 4], [0, 5, 3], [0, 20, 3], [0, 46, 5], [0, 15, 4], [0, 50, 4], [0, 49, 4], [0, 13, 4], [0, 1, 3], [0, 52, 4], [0, 38, 4], [0, 19, 4], [0, 6, 5], [0, 2, 3], [0, 26, 4], [0, 17, 4], [0, 39, 5], [0, 45, 5], [0, 42, 4], [0, 14, 5], [0, 11, 4], [0, 18, 5], [0, 48, 5], [0, 41, 5], [0, 43, 4]] \n",
      "\n",
      "[[0, 51, 4], [0, 9, 4], [0, 44, 4], [0, 21, 3], [0, 0, 5], [0, 47, 4], [0, 7, 5], [0, 3, 4], [0, 36, 5], [0, 24, 3], [0, 22, 5], [0, 37, 5], [0, 27, 4], [0, 31, 4], [0, 25, 5]] \n",
      "\n",
      "[[0, 32, 4], [0, 34, 4], [0, 4, 5], [0, 35, 4], [0, 30, 4], [0, 29, 3], [0, 33, 4], [0, 40, 5], [0, 10, 5], [0, 16, 3], [0, 23, 5], [0, 28, 4], [0, 12, 4], [0, 8, 4], [0, 5, 3], [0, 20, 3], [0, 46, 5], [0, 15, 4], [0, 50, 4], [0, 49, 4], [0, 13, 4], [0, 1, 3], [0, 52, 4], [0, 38, 4], [0, 19, 4], [0, 6, 5], [0, 2, 3], [0, 26, 4], [0, 17, 4], [0, 39, 5], [0, 45, 5], [0, 42, 4], [0, 14, 5], [0, 11, 4], [0, 18, 5], [0, 48, 5], [0, 41, 5], [0, 43, 4], [0, 51, 4], [0, 9, 4], [0, 44, 4], [0, 21, 3], [0, 0, 5], [0, 47, 4], [0, 7, 5], [0, 3, 4], [0, 36, 5], [0, 24, 3], [0, 22, 5], [0, 37, 5], [0, 27, 4], [0, 31, 4], [0, 25, 5]] \n",
      "\n"
     ]
    }
   ],
   "source": [
    "print(ratingList[0][:-15], \"\\n\")\n",
    "print(ratingList[0][-15:], \"\\n\")\n",
    "print(ratingList[0], \"\\n\")"
   ]
  },
  {
   "cell_type": "code",
   "execution_count": 59,
   "id": "5f0578a1",
   "metadata": {},
   "outputs": [],
   "source": [
    "testwr = []\n",
    "trainwr = []\n",
    "\n",
    "for i in range(len(train_lines)):\n",
    "    user, item, rating = train_lines[i][0], train_lines[i][1], train_lines[i][2]\n",
    "    sr = str(user) + '\\t' + str(item) + '\\t' + str(rating) + '\\t' + '978824330' + '\\n'\n",
    "    trainwr.append(sr)\n",
    "\n",
    "for i in range(len(test_lines)):\n",
    "    user, item, rating = test_lines[i][0], test_lines[i][1], test_lines[i][2]\n",
    "    sr = str(user) + '\\t' + str(item) + '\\t' + str(rating) + '\\t' + '978824330' + '\\n'\n",
    "    testwr.append(sr)    "
   ]
  },
  {
   "cell_type": "code",
   "execution_count": 60,
   "id": "2d02dc47",
   "metadata": {},
   "outputs": [],
   "source": [
    "with open('Data/1mml.train.rating', \"w\") as f:\n",
    "    f.writelines(trainwr)\n",
    "\n",
    "with open('Data/1mml.test.rating', \"w\") as f:\n",
    "    f.writelines(testwr)"
   ]
  },
  {
   "cell_type": "code",
   "execution_count": 61,
   "id": "99f5e56f",
   "metadata": {},
   "outputs": [
    {
     "data": {
      "text/plain": [
       "1000209"
      ]
     },
     "execution_count": 61,
     "metadata": {},
     "output_type": "execute_result"
    }
   ],
   "source": [
    "len(trainwr) + len(testwr)"
   ]
  },
  {
   "cell_type": "code",
   "execution_count": 51,
   "id": "454b1c78",
   "metadata": {},
   "outputs": [
    {
     "data": {
      "text/plain": [
       "909609"
      ]
     },
     "execution_count": 51,
     "metadata": {},
     "output_type": "execute_result"
    }
   ],
   "source": [
    "len(train_lines)"
   ]
  },
  {
   "cell_type": "code",
   "execution_count": 12,
   "id": "62a3cf4c",
   "metadata": {},
   "outputs": [],
   "source": [
    "len(ratingList)\n",
    "\n",
    "for i in range(len(ratingList)):\n",
    "    ratingList[i]"
   ]
  },
  {
   "cell_type": "code",
   "execution_count": null,
   "id": "dd3348e1",
   "metadata": {},
   "outputs": [],
   "source": []
  }
 ],
 "metadata": {
  "kernelspec": {
   "display_name": "Python 3",
   "language": "python",
   "name": "python3"
  },
  "language_info": {
   "codemirror_mode": {
    "name": "ipython",
    "version": 3
   },
   "file_extension": ".py",
   "mimetype": "text/x-python",
   "name": "python",
   "nbconvert_exporter": "python",
   "pygments_lexer": "ipython3",
   "version": "3.8.8"
  }
 },
 "nbformat": 4,
 "nbformat_minor": 5
}
